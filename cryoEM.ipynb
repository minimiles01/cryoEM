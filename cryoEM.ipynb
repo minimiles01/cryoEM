{
 "cells": [
  {
   "cell_type": "code",
   "execution_count": null,
   "metadata": {},
   "outputs": [],
   "source": [
    "import numpy as np\n",
    "import matplotlib.pyplot as plt\n",
    "from PIL import Image\n",
    "from scipy.ndimage.interpolation import shift\n",
    "from scipy.signal import correlate\n",
    "from scipy.signal import convolve\n",
    "from scipy.ndimage import rotate"
   ]
  },
  {
   "cell_type": "code",
   "execution_count": null,
   "metadata": {},
   "outputs": [],
   "source": [
    "class cryoEM:\n",
    "\n",
    "    def __init__(self, file_dir):\n",
    "        with open(file_dir, 'rb') as file:\n",
    "            self.data = np.load(file, allow_pickle = True)\n",
    "    \n",
    "    def __init__(self, file_dir):\n",
    "        with open(file_dir, 'rb') as file:\n",
    "            with np.load(file, allow_pickle = True) as data:\n",
    "                self.samples = data[\"samples\"]\n",
    "                self.noiselevels = data[\"noiselevels\"]\n",
    "                self.shiftSD = data[\"shiftSD\"]\n",
    "                self.myImage = data[\"myImage\"]\n",
    "    \n",
    "    def display(self, data, output = 'sample'):\n",
    "        plt.imshow(np.abs(data), cmap='gray')\n",
    "        plt.show()\n",
    "        #img = Image.fromarray(np.abs(data), 'L')\n",
    "        #img.save(output + '.png')\n",
    "    \n",
    "    def gauss(self, mu = 0, sigma = 85):\n",
    "        x, y = np.meshgrid(np.linspace(-85, 85, num = 169), np.linspace(-85, 85, num = 169))\n",
    "        d = np.sqrt((x ** 2) + (y ** 2))\n",
    "        return np.exp(-(((d - mu)**2) / (2.0 * sigma ** 2))) / (sigma * np.sqrt(2 * np.pi))\n",
    "    \n",
    "    def update(self, images, prior):\n",
    "        for image in images:\n",
    "            r = [correlate(prior, rotate(image, a, reshape = False, cval = 0), mode = 'same') for a in range(360)]\n",
    "            index = np.unravel_index(np.argmax(r), (360,85,85))\n",
    "            aligned = shift(rotate(image, index[0], reshape = False, cval = 0), (index[1]-42,index[2]-42), mode = 'constant', cval = 0)    \n",
    "            prior = np.add(prior, aligned)\n",
    "        return prior\n"
   ]
  },
  {
   "cell_type": "code",
   "execution_count": null,
   "metadata": {
    "scrolled": true
   },
   "outputs": [],
   "source": [
    "sample = cryoEM(file_dir = \"2dImages.npz\")\n",
    "\n",
    "n = 1\n",
    "#prior = np.full((85,85), (1 / 7225))\n",
    "prior = sample.samples[0,:,:,2] / np.amax(sample.samples[0,:,:,0])\n",
    "\n",
    "for i in range(0, len(sample.samples), n):\n",
    "    prior = sample.update([j / np.amax(j) for j in sample.samples[i:i+n,:,:,0]], prior)\n",
    "    \n",
    "    print(\"image \", (i / n) + 1, \" of \", len(sample.samples) / n)\n",
    "    sample.display(prior)"
   ]
  }
 ],
 "metadata": {
  "kernelspec": {
   "display_name": "Python 3",
   "language": "python",
   "name": "python3"
  },
  "language_info": {
   "codemirror_mode": {
    "name": "ipython",
    "version": 3
   },
   "file_extension": ".py",
   "mimetype": "text/x-python",
   "name": "python",
   "nbconvert_exporter": "python",
   "pygments_lexer": "ipython3",
   "version": "3.8.5"
  }
 },
 "nbformat": 4,
 "nbformat_minor": 4
}
