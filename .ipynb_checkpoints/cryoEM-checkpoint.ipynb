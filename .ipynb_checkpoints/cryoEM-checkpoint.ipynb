{
 "cells": [
  {
   "cell_type": "code",
   "execution_count": 1,
   "metadata": {},
   "outputs": [],
   "source": [
    "import numpy as np\n",
    "from PIL import Image"
   ]
  },
  {
   "cell_type": "code",
   "execution_count": 9,
   "metadata": {},
   "outputs": [],
   "source": [
    "class cryoEM:\n",
    "    \n",
    "    def __init__(self, file_dir):\n",
    "        with open(file_dir, 'rb') as file:\n",
    "            with np.load(file, allow_pickle = True) as data:\n",
    "                self.samples = data[\"samples\"]\n",
    "                self.noiselevels = data[\"noiselevels\"]\n",
    "                self.shiftSD = data[\"shiftSD\"]\n",
    "                self.myImage = data[\"myImage\"]\n",
    "    \n",
    "    def display(self, data, output = 'sample'):\n",
    "        h, w = len(data), len(data[0])\n",
    "        image_data = np.zeros((h, w), dtype=np.uint8)\n",
    "        for i in range(h):\n",
    "            for j in range(w):\n",
    "                image_data[i][j] = abs(data[i][j])\n",
    "        img = Image.fromarray(image_data, 'L')\n",
    "        img.save(output + '.png')"
   ]
  },
  {
   "cell_type": "code",
   "execution_count": 10,
   "metadata": {},
   "outputs": [],
   "source": [
    "sample_data = cryoEM(file_dir = \"2dImages.npz\")\n",
    "\n",
    "image_data = np.array([[sample_data.samples[0][i][j][2] for j in range(85)] for i in range(85)])\n",
    "sample_data.display(image_data)"
   ]
  },
  {
   "cell_type": "code",
   "execution_count": null,
   "metadata": {},
   "outputs": [],
   "source": []
  }
 ],
 "metadata": {
  "kernelspec": {
   "display_name": "Python 3",
   "language": "python",
   "name": "python3"
  },
  "language_info": {
   "codemirror_mode": {
    "name": "ipython",
    "version": 3
   },
   "file_extension": ".py",
   "mimetype": "text/x-python",
   "name": "python",
   "nbconvert_exporter": "python",
   "pygments_lexer": "ipython3",
   "version": "3.8.5"
  }
 },
 "nbformat": 4,
 "nbformat_minor": 4
}
