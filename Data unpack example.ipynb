{
 "cells": [
  {
   "cell_type": "code",
   "execution_count": null,
   "metadata": {},
   "outputs": [],
   "source": [
    "import numpy as np\n",
    "import pickle"
   ]
  },
  {
   "cell_type": "markdown",
   "metadata": {},
   "source": [
    "In the code blocks below below, \n",
    "\"2dImages.npz\" was downloaded from PLMS site whereas \n",
    "\"sample_data/2dImages.npz\" was sourced from github.\n",
    "\n",
    "\"2dImages.npz\" loads properly, albeit with some finicking of the file, whereas\n",
    "\"sample_data/2dImages.npz\" returns an \"invalid load key, 'v'.\" error.\n",
    "\n",
    "according to stackexchange sources online, this MAY be due to \"sample_data/2dImages.npz\" \n",
    "having not been uploaded using the git lfs (Large File Storage) utility."
   ]
  },
  {
   "cell_type": "code",
   "execution_count": null,
   "metadata": {},
   "outputs": [],
   "source": [
    "#Working example with file sourced from PLMS site\n",
    "test = cryoEM(file_dir = \"2dImages.npz\")\n",
    "print(test.samples)"
   ]
  },
  {
   "cell_type": "code",
   "execution_count": null,
   "metadata": {},
   "outputs": [],
   "source": [
    "#Broken example with file sourced from github repository\n",
    "test = cryoEM(file_dir = \"sample_data/2dImages.npz\") \n",
    "print(test.samples)"
   ]
  }
 ],
 "metadata": {
  "kernelspec": {
   "display_name": "Python 3",
   "language": "python",
   "name": "python3"
  },
  "language_info": {
   "codemirror_mode": {
    "name": "ipython",
    "version": 3
   },
   "file_extension": ".py",
   "mimetype": "text/x-python",
   "name": "python",
   "nbconvert_exporter": "python",
   "pygments_lexer": "ipython3",
   "version": "3.8.5"
  }
 },
 "nbformat": 4,
 "nbformat_minor": 4
}
